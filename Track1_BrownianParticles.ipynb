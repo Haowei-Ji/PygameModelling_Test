{
 "cells": [
  {
   "cell_type": "markdown",
   "id": "e7bb737b",
   "metadata": {},
   "source": [
    "# Track 1:Simple Brownian Motion\n",
    "\n",
    "Lorem Ipsum\n",
    "\n",
    "## Modelling motion of Brownian particles\n",
    "\n",
    "Lorem Ipsum"
   ]
  },
  {
   "cell_type": "markdown",
   "id": "92b2915f",
   "metadata": {},
   "source": [
    "The following cell shows an example of using the code base to create a group of simpla brownian particles with pygame. The `Simulation` class creates an arena and N particles inside. We define the type of these particles/agents as \"brownian\". After initialization we set the noise parameters (defining the motion of each agent). The noise on the agents can be normal with parameters mean and standard deviation or uniform with parameters minimum and maximum value.\n",
    "\n",
    "Upon starting the simulation instance in each timestep the position and orientation of the particles are updated according to an update rul (`update_forces` and `update` method of `AgentBrownian` class.)"
   ]
  },
  {
   "cell_type": "code",
   "execution_count": 4,
   "id": "bcd82cf2",
   "metadata": {},
   "outputs": [
    {
     "name": "stdout",
     "output_type": "stream",
     "text": [
      "Obtaining file:///home/david/Desktop/PygameModelling23\n",
      "Requirement already satisfied: matplotlib in ./venv/lib/python3.8/site-packages (from PyGame-Modelling-Workshop-2022==1.0.0) (3.7.1)\n",
      "Requirement already satisfied: numpy in ./venv/lib/python3.8/site-packages (from PyGame-Modelling-Workshop-2022==1.0.0) (1.24.3)\n",
      "Requirement already satisfied: opencv-python in ./venv/lib/python3.8/site-packages (from PyGame-Modelling-Workshop-2022==1.0.0) (4.7.0.72)\n",
      "Requirement already satisfied: pygame in ./venv/lib/python3.8/site-packages (from PyGame-Modelling-Workshop-2022==1.0.0) (2.4.0)\n",
      "Requirement already satisfied: scipy in ./venv/lib/python3.8/site-packages (from PyGame-Modelling-Workshop-2022==1.0.0) (1.10.1)\n",
      "Requirement already satisfied: zarr in ./venv/lib/python3.8/site-packages (from PyGame-Modelling-Workshop-2022==1.0.0) (2.14.2)\n",
      "Requirement already satisfied: cycler>=0.10 in ./venv/lib/python3.8/site-packages (from matplotlib->PyGame-Modelling-Workshop-2022==1.0.0) (0.11.0)\n",
      "Requirement already satisfied: contourpy>=1.0.1 in ./venv/lib/python3.8/site-packages (from matplotlib->PyGame-Modelling-Workshop-2022==1.0.0) (1.0.7)\n",
      "Requirement already satisfied: pyparsing>=2.3.1 in ./venv/lib/python3.8/site-packages (from matplotlib->PyGame-Modelling-Workshop-2022==1.0.0) (3.0.9)\n",
      "Requirement already satisfied: pillow>=6.2.0 in ./venv/lib/python3.8/site-packages (from matplotlib->PyGame-Modelling-Workshop-2022==1.0.0) (9.5.0)\n",
      "Requirement already satisfied: kiwisolver>=1.0.1 in ./venv/lib/python3.8/site-packages (from matplotlib->PyGame-Modelling-Workshop-2022==1.0.0) (1.4.4)\n",
      "Requirement already satisfied: importlib-resources>=3.2.0; python_version < \"3.10\" in ./venv/lib/python3.8/site-packages (from matplotlib->PyGame-Modelling-Workshop-2022==1.0.0) (5.12.0)\n",
      "Requirement already satisfied: python-dateutil>=2.7 in ./venv/lib/python3.8/site-packages (from matplotlib->PyGame-Modelling-Workshop-2022==1.0.0) (2.8.2)\n",
      "Requirement already satisfied: packaging>=20.0 in ./venv/lib/python3.8/site-packages (from matplotlib->PyGame-Modelling-Workshop-2022==1.0.0) (23.1)\n",
      "Requirement already satisfied: fonttools>=4.22.0 in ./venv/lib/python3.8/site-packages (from matplotlib->PyGame-Modelling-Workshop-2022==1.0.0) (4.39.4)\n",
      "Requirement already satisfied: fasteners in ./venv/lib/python3.8/site-packages (from zarr->PyGame-Modelling-Workshop-2022==1.0.0) (0.18)\n",
      "Requirement already satisfied: asciitree in ./venv/lib/python3.8/site-packages (from zarr->PyGame-Modelling-Workshop-2022==1.0.0) (0.3.3)\n",
      "Requirement already satisfied: numcodecs>=0.10.0 in ./venv/lib/python3.8/site-packages (from zarr->PyGame-Modelling-Workshop-2022==1.0.0) (0.11.0)\n",
      "Requirement already satisfied: zipp>=3.1.0; python_version < \"3.10\" in ./venv/lib/python3.8/site-packages (from importlib-resources>=3.2.0; python_version < \"3.10\"->matplotlib->PyGame-Modelling-Workshop-2022==1.0.0) (3.15.0)\n",
      "Requirement already satisfied: six>=1.5 in ./venv/lib/python3.8/site-packages (from python-dateutil>=2.7->matplotlib->PyGame-Modelling-Workshop-2022==1.0.0) (1.16.0)\n",
      "Requirement already satisfied: entrypoints in ./venv/lib/python3.8/site-packages (from numcodecs>=0.10.0->zarr->PyGame-Modelling-Workshop-2022==1.0.0) (0.4)\n",
      "Installing collected packages: PyGame-Modelling-Workshop-2022\n",
      "  Attempting uninstall: PyGame-Modelling-Workshop-2022\n",
      "    Found existing installation: PyGame-Modelling-Workshop-2022 1.0.0\n",
      "    Uninstalling PyGame-Modelling-Workshop-2022-1.0.0:\n",
      "      Successfully uninstalled PyGame-Modelling-Workshop-2022-1.0.0\n",
      "  Running setup.py develop for PyGame-Modelling-Workshop-2022\n",
      "Successfully installed PyGame-Modelling-Workshop-2022\n",
      "Note: you may need to restart the kernel to use updated packages.\n",
      "Running simulation start method!\n",
      "Starting main simulation loop!\n",
      "2023-06-04_14-16-22.494249 Total simulation time:  20.156056\n"
     ]
    }
   ],
   "source": [
    "#import IPython\n",
    "#IPython.Application.instance().kernel.do_shutdown(True)\n",
    "%pip install -e .\n",
    "from pygmodw23.sims import Simulation\n",
    "\n",
    "# Simulation Parameters\n",
    "# simulation time\n",
    "T = 500\n",
    "# number of agents\n",
    "N = 15\n",
    "# path trail lengths\n",
    "memory_length = T\n",
    "\n",
    "# Create a simulation instance\n",
    "test_simulation = Simulation(N=N, T=T, agent_type=\"brownian\")\n",
    "\n",
    "# Change Agent Parameters\n",
    "# a.) type of noise (\"normal\" or \"uniform\")\n",
    "# b.) noise parameters (min, max) or (mean, std) of movement noise\n",
    "# c.) particle speed\n",
    "for agent in test_simulation.agents:\n",
    "    agent.noise_type = \"normal\"  # or \"normal\"\n",
    "    agent.noise_params = (0, 0.5)  # (min, max) or (mean, std)\n",
    "    agent.v_max = 2              # constant maximum absolute velocity\n",
    "    # colorcoding orientation\n",
    "    agent.change_color_with_orientation = True\n",
    "\n",
    "# showing colorcoded trails\n",
    "test_simulation.memory_length = memory_length\n",
    "\n",
    "\n",
    "# Start the simulation\n",
    "test_simulation.start()"
   ]
  },
  {
   "cell_type": "markdown",
   "id": "1f34d64f",
   "metadata": {},
   "source": [
    "## Excercise 1.:\n",
    "Here we will experiment with the qualitative effect of different noise parameters on the system.\n",
    "  - a.) Increase the stochasiticity on the system with the above code snippet by changing `agent.noise_params`. What can you say about the qualitative effects on the system? (disperison, coverage)\n",
    "  - b.) Now change the noise type to `normal` with mean=0 and set the standard deviation to 0, 0.1, 0.5, 1, 3. Observe the effect of this kind of noise on the system. What do you think is different with this type of noise?\n",
    "  - c.) Do a very short literature search and reason which type of noise would be more reasonable to model brownian motion of moving particles? why?"
   ]
  },
  {
   "cell_type": "code",
   "execution_count": null,
   "id": "2958d66b",
   "metadata": {},
   "outputs": [],
   "source": []
  }
 ],
 "metadata": {
  "kernelspec": {
   "display_name": "Python 3 (ipykernel)",
   "language": "python",
   "name": "python3"
  },
  "language_info": {
   "codemirror_mode": {
    "name": "ipython",
    "version": 3
   },
   "file_extension": ".py",
   "mimetype": "text/x-python",
   "name": "python",
   "nbconvert_exporter": "python",
   "pygments_lexer": "ipython3",
   "version": "3.8.10"
  }
 },
 "nbformat": 4,
 "nbformat_minor": 5
}
