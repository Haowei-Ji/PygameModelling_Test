{
 "cells": [
  {
   "cell_type": "markdown",
   "id": "a8b0bc6f",
   "metadata": {},
   "source": [
    "# Introduction\n",
    "Welcome to the Pygame Modelling Workshop. You can find the track and tasks in this notebook. We assume that you have `python3.7+` with `pip` installed and you have installed the provided package `pygmodw22` with all it's dependencies in a virtual environment from which you are running this notebook. In case you have not yet done the preparatory steps, please follow the instructions [in the README file](https://github.com/mezdahun/PygameModelling22#1-prerequisites)\n",
    "\n",
    "## Goal of the Workshop\n",
    "During this workshop you will get a hands-on introduction and demonstration on modelling a typical multi-agent system using an open-source game engine (pygame). \n",
    "\n",
    "The main goals of this workshop is to:\n",
    "1. Give an intorduction into the used flocking model\n",
    "2. Give an introduction on how agent-based simulations are usually implemented and how they are implemented in the current pygame-based approach\n",
    "3. Discover the provided system by real-time hands-on experimentation\n",
    "4. (Optionally) look deeper in the code"
   ]
  },
  {
   "cell_type": "markdown",
   "id": "a18eeada",
   "metadata": {},
   "source": [
    "# Part I.: The Three-Zone-Model\n",
    "\n",
    "Here, we will explore an agent-based model for simulating collective dynamics of animals (e.g. fish schools) through the provided package and small tasks. Feel free to provide your answers in this notebook. Our main task is the exploration of collective dynamics in a 2D model, related to the Three-Zone-Model (Two-Zone-Models) [by Couzin et al.](https://www.sciencedirect.com/science/article/pii/S0022519302930651), where the interaction between individuals is governed by three basic interactions: long-range attraction, short-ranged repulsion and alignment. \n",
    "\n",
    "## Brief Introduction\n",
    "### Fundamental model\n",
    "\n",
    "The code solves a set of (stochastic) differential equation describing a set of $N$ interacting agents ($i= 1,\\dots, N$). The dynamics of each agent (in 2d) is described by the following equations of motion:\n",
    "\n",
    "$$ \\frac{d \\vec{r}_i}{dt}=\\vec{v}_i(t) $$\n",
    "$$ \\vec{v}_i(t) = {s_i\\cos(\\varphi_i(t)) \\choose s_i\\sin(\\varphi_i(t)) } $$\n",
    "$$ \\frac{d \\varphi_i}{dt} = \\frac{1}{s_i}\\left( F_{i,\\varphi} + \\eta_{i,\\varphi} \\right) $$\n",
    "\n",
    "\n",
    "Here $\\vec{r}_i$, $\\vec{v}_i$ are the Cartesian position and velocity  vectors of the focal agent, wth $s_i$ being the (constant) speed of agent $i$. Furthermore, $\\eta_{i,\\varphi}$ represents Gaussian white noise introducing randomness in the motion of individuals, and $\\vec{F}_{i,\\varphi}$ is the projections of the total social force inducing a turning behavior.\n",
    "$$ F_{i,\\varphi}=\\vec{F}_i \\cdot \\vec{u}_{\\varphi,i} = \\vec{F}_i {- s_i\\sin\\varphi_i \\choose s_i\\cos\\varphi_i } $$\n",
    "\n",
    "\n",
    "The total effective social force is a sum of three components:\n",
    "$$ \\vec{F}_i=\\vec{F}_{i,rep}+\\vec{F}_{i,alg}+\\vec{F}_{i,att} $$\n",
    "\n",
    "\n",
    "**Attraction:\n",
    "$$\\vec{F}_{i,att}=\\sum_{j \\in Neigh} +\\mu_{att}S_{att}({r}_{ji}) \\hat{r}_{ji} $$\n",
    "Repulsion:\n",
    "$$\\vec{F}_{i,rep}=\\sum_{j \\in Neigh} -\\mu_{rep}S_{rep}({r}_{ji}) \\hat{r}_{ji}$$\n",
    "Alignment:**\n",
    "$$\\vec{F}_{i,alg}=\\sum_{j \\in Neigh} \\mu_{alg}S_{alg}({r}_{ji}) (\\vec{v}_j-\\vec{v}_i)$$\n",
    "with $\\hat r = \\vec{r}/|r|$.\n",
    "\n",
    "The strength of the different interactions is set by a constant $\\mu_X$ and a sigmoid function of distance, which goes from 1 to 0, with the transition point at $r_{X,0}$ and steepness $a_{X}$:\n",
    "$$ S_X(r)=\\frac{1}{2}\\left(\\tanh(-a(r-r_{X,0})+1\\right) $$"
   ]
  },
  {
   "cell_type": "markdown",
   "id": "ea52e8af",
   "metadata": {},
   "source": [
    "<img src=\"data/images/scheme_ranges.png\" width='800'>\n",
    "\n",
    "**Figure2.:** Local interaction forces around an agent"
   ]
  },
  {
   "cell_type": "markdown",
   "id": "c755e48a",
   "metadata": {},
   "source": [
    "<img src=\"data/images/int_ranges.png\">\n",
    "\n",
    "**Figure1.:** Example of the 3 interaction zones around a focal agent"
   ]
  },
  {
   "cell_type": "markdown",
   "id": "33e2bb96",
   "metadata": {},
   "source": [
    "# Part II.: Agent-based Simulations in pygame\n",
    "\n",
    "[pygame](https://www.pygame.org/wiki/about) is a free, portable, highly optimized (in terms of CPU usage and multi-threading) game engine available via the main python package manager `pip`. `pygame` was originally designed to create videogames in an easy-to understand and open-source way. Many aspects and challenges of creating videogames, on the other hand, also apply to scientific agent-based simulations (e.g. parallel computing, speed optimization, highly object-oriented design). Next to providing an object-oriented and optimized framework to implement and simulate mathematical models, `pygame` also provides a unique way of interactive experimentation with the studied system via user interaction events (button press, cursor movement, etc.).\n",
    "\n",
    "## Structure of the provided code base\n",
    "\n",
    "To make our experimentation faster we have provided a code base including an implementation of the described Three-zone-model as a custom made python package called `pygmodw22` (**Pyg**ame **Mod**elling **W**orkshop 20**22**). The package includes a `setup.py` file that allows it to be installed via `pip` including all dependencies and version restrictions for the package. Inside the folder package `pygmodw22` you have 3 files.\n",
    "\n",
    "1. **agent.py**: Includes the implementation of moving agents of the model as a single `Agent` class and the rules/methods of how a these agents' behavior is updated in each timestep (`update` method). Other than functionality, the `Agent` class also describes the appearance of the agents (color, radius, etc. `draw` method). Defining and drawing the agents is surpisingly easy compared to other animation methods (e.g. matplotlib animation library). This is one of the great advantages of `pygame`. Each agent class instance will include their own parameters (radius, zone parameters, etc.) hence `pygame` also makes heterogeneous system implementations easy compared to vectorized or non-object-oriented solutions.\n",
    "\n",
    "2. **sims.py**: In this file we defined the `Simulation` class that defines the arena (in which the agents move), possible user interactions, as well as the main simulation loop. This loop will have $T$ iterations and in each timestep it will call the agents' `update` and `draw` method (among other supplementary methods).\n",
    "\n",
    "3. **support.py**: Includes all supllementary and mathematical methods needed for the update process. These are, for example, calculation of euclidian distance, implementation of the sigmoid function, etc.\n",
    "\n",
    "To create an example simulation, see the code below:\n"
   ]
  },
  {
   "cell_type": "markdown",
   "id": "2a36114f",
   "metadata": {},
   "source": [
    "## Example 1.: Understanding the Simulation and Agent classes"
   ]
  },
  {
   "cell_type": "code",
   "execution_count": 1,
   "id": "ec03fe9f",
   "metadata": {
    "collapsed": true
   },
   "outputs": [
    {
     "name": "stdout",
     "output_type": "stream",
     "text": [
      "pygame 2.0.2 (SDL 2.0.16, Python 3.6.9)\n",
      "Hello from the pygame community. https://www.pygame.org/contribute.html\n"
     ]
    }
   ],
   "source": [
    "# first we import the Simulation class from the code base\n",
    "from pygmodw22.sims import Simulation"
   ]
  },
  {
   "cell_type": "code",
   "execution_count": 3,
   "id": "7f5ac396",
   "metadata": {
    "collapsed": true
   },
   "outputs": [
    {
     "name": "stdout",
     "output_type": "stream",
     "text": [
      "Running simulation start method!\n",
      "Creating agents!\n",
      "Starting main simulation loop!\n",
      "2022-06-06_11-25-38.030436 t=1\n",
      "Simulation FPS: 0.0\n",
      "2022-06-06_11-25-43.394949 t=100\n",
      "Simulation FPS: 24.509803771972656\n",
      "2022-06-06_11-25-47.483013 t=200\n",
      "Simulation FPS: 24.330900192260742\n",
      "2022-06-06_11-25-49.555632 Total simulation time:  11.544666\n"
     ]
    }
   ],
   "source": [
    "# now we can create a Simulation class instance as follows\n",
    "simulation = Simulation(N=10,  # Number of agents in the environment\n",
    "                        T=250,  # Simulation timesteps\n",
    "                        width=500,  # Arena width in pixels\n",
    "                        height=500,  # Arena height in pixels\n",
    "                        agent_radius=10)  # Agent radius in pixels\n",
    "\n",
    "# Let's start the main simulation loop by calling the start method of the created simulation\n",
    "simulation.start()"
   ]
  },
  {
   "cell_type": "markdown",
   "id": "6492dcd9",
   "metadata": {},
   "source": [
    "## Interactions\n",
    "Pygame provides us a unique way to visualize and interact with complex systems real-time while the simulation/game is running. We implemented a few interactions that you can use throughout the workshop to better understand the system.\n",
    "\n",
    "**Keystrokes:**\n",
    "\n",
    "- `f`aster: increase framerate (if your system allows)\n",
    "- `s`lower: decrease framerate\n",
    "- `d`efault: default framerate (25fps)\n",
    "- `c`olor: turn on/off coloration according to agent orientation and velocity\n",
    "- `z`ones: turn on/off showing the 3 zones around the agent\n",
    "- `space`: pause/continue simulation\n",
    "\n",
    "**Cursor Events**:\n",
    "\n",
    "- **move**: You can drag and drop agents around by clicking and holding them. This allows you to perturb the system without any need of coding.\n",
    "- **rotate**: You can rotate the agents by first grabbing them and then using your mouse wheel (or scrolling event).\n",
    "\n"
   ]
  },
  {
   "cell_type": "markdown",
   "id": "c630f80d",
   "metadata": {},
   "source": [
    "## Task 1: Exploring Interactions\n",
    "\n",
    "Use the example code snippet below. Modify it to increase the simulation time to 1000 timesteps and decrease the number of agents to 3. \n",
    "\n",
    "After the 3 agents have aligned into the same direction pause the experiment with `space`. Rotate one of the agents by 180 degrees from it's original orientation by moving your cursor on top of it and scrolling your mouse wheel. Continue the simulation with `space`. \n",
    "\n",
    "1. How does the system react to your perturbation? You can also turn on coloration of the agents by their orientation (with `c`) to get an even better insight.\n",
    "2. Now do the same thing again but with 10 agents. Do you see any differences?\n",
    "3. Now instead of turning an agent move it further away from the group with your cursor. What do you see? How does the effect change from 2, 3 then 10 agents?\n"
   ]
  },
  {
   "cell_type": "code",
   "execution_count": 10,
   "id": "12d72d00",
   "metadata": {
    "collapsed": true
   },
   "outputs": [
    {
     "name": "stdout",
     "output_type": "stream",
     "text": [
      "Running simulation start method!\n",
      "Creating agents!\n",
      "Starting main simulation loop!\n",
      "2022-06-06_11-51-36.323961 t=1\n",
      "Simulation FPS: 0.0\n",
      "2022-06-06_11-51-40.877235 t=100\n",
      "Simulation FPS: 24.44987678527832\n",
      "2022-06-06_11-51-44.974766 t=200\n",
      "Simulation FPS: 24.69135856628418\n",
      "2022-06-06_11-51-49.100981 t=300\n",
      "Simulation FPS: 24.390243530273438\n",
      "2022-06-06_11-51-58.355662 t=400\n",
      "Simulation FPS: 23.980815887451172\n",
      "2022-06-06_11-52-05.633110 t=500\n",
      "Simulation FPS: 23.75296974182129\n",
      "2022-06-06_11-52-09.719998 t=600\n",
      "Simulation FPS: 24.213075637817383\n",
      "2022-06-06_11-52-13.837919 t=700\n",
      "Simulation FPS: 24.15458869934082\n",
      "2022-06-06_11-52-17.936544 t=800\n",
      "Simulation FPS: 24.44987678527832\n",
      "2022-06-06_11-52-22.041066 t=900\n",
      "Simulation FPS: 24.390243530273438\n",
      "2022-06-06_11-52-26.157003 t=1000\n",
      "Simulation FPS: 24.390243530273438\n",
      "2022-06-06_11-52-32.548942 t=1100\n",
      "Simulation FPS: 24.330900192260742\n",
      "2022-06-06_11-52-36.671712 t=1200\n",
      "Simulation FPS: 24.15458869934082\n",
      "2022-06-06_11-52-40.763154 t=1300\n",
      "Simulation FPS: 24.93765640258789\n",
      "Bye bye!\n"
     ]
    },
    {
     "ename": "SystemExit",
     "evalue": "",
     "output_type": "error",
     "traceback": [
      "An exception has occurred, use %tb to see the full traceback.\n",
      "\u001b[0;31mSystemExit\u001b[0m\n"
     ]
    }
   ],
   "source": [
    "# now we can create a Simulation class instance as follows\n",
    "simulation = Simulation(N=3,  # Number of agents in the environment\n",
    "                        T=2500,  # Simulation timesteps\n",
    "                        width=500,  # Arena width in pixels\n",
    "                        height=500,  # Arena height in pixels\n",
    "                        agent_radius=10)  # Agent radius in pixels\n",
    "\n",
    "# Let's start the main simulation loop by calling the start method of the created simulation\n",
    "simulation.start()"
   ]
  },
  {
   "cell_type": "markdown",
   "id": "6c99bfae",
   "metadata": {},
   "source": [
    "## Task 2: Exploring Zones of Agents\n",
    "\n",
    "Use the code example code snippet below. Modify it to increase the simulation time to 1000 timesteps and decrease the number of agents to only a pair of 2. \n",
    "\n",
    "Turn on the visualization of the local interaction zones by pressing `z`. The long-range attraction zone is denoted with a green, the intermediate alignment zone with a yellow and the short-range repulsion with a red circle around the agents. Without pausing the simulation hold one of the agents still with your cursor.  \n",
    "\n",
    "1. How does the other agent react? Is there anything surprising or different than what you expected?\n",
    "2. Why? How can you explain what you see with the effect of the 3 zones (attraction/alignment/repulsion)?\n",
    "3. What happens if you also start rotating the agent at the same time you hold it? Which zone is responsible for the temporary change in the behavior? "
   ]
  },
  {
   "cell_type": "code",
   "execution_count": 7,
   "id": "a5aba349",
   "metadata": {
    "collapsed": true
   },
   "outputs": [
    {
     "name": "stdout",
     "output_type": "stream",
     "text": [
      "Running simulation start method!\n",
      "Creating agents!\n",
      "Starting main simulation loop!\n",
      "2022-06-06_11-39-07.432504 t=1\n",
      "Simulation FPS: 0.0\n",
      "2022-06-06_11-39-15.203828 t=100\n",
      "Simulation FPS: 24.213075637817383\n",
      "2022-06-06_11-39-19.330444 t=200\n",
      "Simulation FPS: 24.213075637817383\n",
      "2022-06-06_11-39-23.443120 t=300\n",
      "Simulation FPS: 24.213075637817383\n",
      "2022-06-06_11-39-27.552105 t=400\n",
      "Simulation FPS: 24.330900192260742\n",
      "2022-06-06_11-39-31.693219 t=500\n",
      "Simulation FPS: 24.509803771972656\n",
      "2022-06-06_11-39-35.826749 t=600\n",
      "Simulation FPS: 23.980815887451172\n",
      "2022-06-06_11-39-39.911073 t=700\n",
      "Simulation FPS: 24.509803771972656\n",
      "2022-06-06_11-39-43.984469 t=800\n",
      "Simulation FPS: 24.570024490356445\n",
      "2022-06-06_11-39-48.071110 t=900\n",
      "Simulation FPS: 24.509803771972656\n",
      "2022-06-06_11-39-52.167941 t=1000\n",
      "Simulation FPS: 24.330900192260742\n",
      "2022-06-06_11-39-52.204320 Total simulation time:  44.775661\n"
     ]
    }
   ],
   "source": [
    "# now we can create a Simulation class instance as follows\n",
    "simulation = Simulation(N=10,  # Number of agents in the environment\n",
    "                        T=250,  # Simulation timesteps\n",
    "                        width=500,  # Arena width in pixels\n",
    "                        height=500,  # Arena height in pixels\n",
    "                        agent_radius=10)  # Agent radius in pixels\n",
    "\n",
    "# Let's start the main simulation loop by calling the start method of the created simulation\n",
    "simulation.start()"
   ]
  },
  {
   "cell_type": "markdown",
   "id": "29b5003d",
   "metadata": {},
   "source": [
    "## Example 2: Flocking Parameters\n",
    "\n",
    "As we have seen in the introduction to the zonal model each agent has 3 zones of local interaction parametrized by their interaction ranges, stepness parameters and interaction strengths.\n",
    "\n",
    "In the next section we will see how changing these parameters will influence the collective behavior of the system.\n",
    "\n",
    "When we create a `simulation` object it has N `Agent` type objects in it's `agents` class attribute which is the list of agents in the environment. They by default have some flocking parameters such as interaction strengths. To override these default values and set our desired parameters you can do the following: "
   ]
  },
  {
   "cell_type": "code",
   "execution_count": 38,
   "id": "a3ca1e9b",
   "metadata": {},
   "outputs": [
    {
     "name": "stdout",
     "output_type": "stream",
     "text": [
      "Setting parameters for agent 0\n",
      "Setting parameters for agent 1\n",
      "Setting parameters for agent 2\n",
      "Setting parameters for agent 3\n",
      "Setting parameters for agent 4\n",
      "Setting parameters for agent 5\n",
      "Setting parameters for agent 6\n",
      "Setting parameters for agent 7\n",
      "Setting parameters for agent 8\n",
      "Setting parameters for agent 9\n",
      "Running simulation start method!\n",
      "Starting main simulation loop!\n",
      "2022-06-06_21-10-39.416579 t=1\n",
      "Simulation FPS: 0.0\n",
      "2022-06-06_21-10-43.469608 t=100\n",
      "Simulation FPS: 24.330900192260742\n",
      "2022-06-06_21-10-47.578993 t=200\n",
      "Simulation FPS: 24.330900192260742\n",
      "2022-06-06_21-10-51.683159 t=300\n",
      "Simulation FPS: 24.44987678527832\n",
      "2022-06-06_21-10-55.818199 t=400\n",
      "Simulation FPS: 24.096385955810547\n",
      "2022-06-06_21-10-59.915929 t=500\n",
      "Simulation FPS: 24.44987678527832\n",
      "2022-06-06_21-11-04.019704 t=600\n",
      "Simulation FPS: 24.44987678527832\n",
      "2022-06-06_21-11-08.139609 t=700\n",
      "Simulation FPS: 24.096385955810547\n",
      "Bye bye!\n"
     ]
    },
    {
     "ename": "SystemExit",
     "evalue": "",
     "output_type": "error",
     "traceback": [
      "An exception has occurred, use %tb to see the full traceback.\n",
      "\u001b[0;31mSystemExit\u001b[0m\n"
     ]
    }
   ],
   "source": [
    "from pygmodw22.sims import Simulation\n",
    "\n",
    "# We create a Simulation class instance with it's default agents as before\n",
    "simulation = Simulation(N=10,  # Number of agents in the environment\n",
    "                        T=2500,  # Simulation timesteps\n",
    "                        width=500,  # Arena width in pixels\n",
    "                        height=500,  # Arena height in pixels\n",
    "                        agent_radius=10)  # Agent radius in pixels\n",
    "\n",
    "# we loop through all the agents of the created simulation\n",
    "for agent in simulation.agents:\n",
    "    print(f\"Setting parameters for agent {agent.id}\")\n",
    "    \n",
    "    # changing their default flocking parameters\n",
    "    agent.s_att = 0.02  # attraction strength (AU)\n",
    "    agent.s_rep = 5  # repulsion strength (AU)\n",
    "    agent.s_alg = 1.75  # alignment strength (AU)\n",
    "\n",
    "    agent.r_att = 200  # attraction range (px)\n",
    "    agent.r_rep = 50  # repulsion range (px)\n",
    "    agent.r_alg = 100  # alignment range (px)\n",
    "    \n",
    "    agent.steepness_att = -0.5  # steepness in attraction force calculation (sigmoid)\n",
    "    agent.steepness_rep = -0.5  # steepness in repulsion force calculation (sigmoid)\n",
    "    agent.steepness_alg = -0.5  # steepness in alignment force calculation (sigmoid)\n",
    "    \n",
    "    agent.v_max = 1\n",
    "    agent.dt = 0.05\n",
    "    \n",
    "    agent.boundary = \"bounce_back\"\n",
    "    \n",
    "    \n",
    "# Now we can start the simulation with the changed agents\n",
    "simulation.start()"
   ]
  },
  {
   "cell_type": "markdown",
   "id": "1fabb1a4",
   "metadata": {},
   "source": [
    "## Task 3: Exploring Flocking Parameters\n",
    "\n",
    "Use the example code snippet above. \n",
    "\n",
    "1. **Individual Dynamics**: Turn off all the interaction forces. Perform simulations with different angular noise values and explore the behavior of the agents (typical values can be: 0.01, 0.1, 0.5)\n",
    "2. **Obstacle Avoidance**:\n",
    "    - a. Re-introduce a strong local repulsion interaction (s_rep=5) and by that implement obstacle avoidance. \n",
    "    - b. Test the repulsion beahvior with different repulsion ranges (20, 50, 150). Feel free to move around the agents and see what happens when you move them in each others' repulsion zone.\n",
    "    - c. You can visualize the zones around the agents with `z`. Only those zones will be shown for which the corresponding interaction strength is larger than zero. \n",
    "    - d. Explore the effect of the repulsion steepness (-0.1, -0.5, -1). \n",
    "    - e. When does repulsion take place with low or high steepness parameter? \n",
    "    - f. Do you think this obstacle avoidance will always avoid agents from collision?\n",
    "    - g. For the following experimentation fix repulsion strength to 5, steepness to -0.5 and range to 50\n",
    " \n",
    "3. **Attraction-Repulsion**\n",
    "    - a. Re-intorduce attraction and explore the beahavior with different attraction strenths 0.05, 0.5, 1, 5.\n",
    "    - b. What happens for attraction strength of 0.05 and 5? What would you consider a realistic attraction strength for a mosquito swarm?\n",
    "    - c. For the next experiment fix the attraction strength to 0.02, attraction range to 200 and steepness to -0.5.\n",
    "    \n",
    "4. **Movement Coordination**\n",
    "    - a. What do you think you will observe when you introduce an intermediate zone where agents align to their neighbors?\n",
    "    - b. Re-introduce the alignment zone by setting a strong alignment strength of 5.\n",
    "    - c. Introduce repellent walls by writing the following in the loop: `agent.boundary = \"bounce_back\"`. Is the system robust enough to handle such perturbations? Try different alignment strengths of 1.75 and 5. What is the difference?"
   ]
  },
  {
   "cell_type": "markdown",
   "id": "e970c3c5",
   "metadata": {},
   "source": [
    "## Task 4.: Heterogeneity\n",
    "No that you know how to change the flocking parameters of the agents we can introduce heterogeneity. \n",
    "\n",
    "1. What do you think might happen if half of the group has no attraction force? Change the parameters (according to the previous examples) of half of the agents so that they don't have attraction zone but keep the other half of the group intact. (Use `N=10` agents). What happens when you turn off attraction to 8/10 agents?"
   ]
  },
  {
   "cell_type": "code",
   "execution_count": 22,
   "id": "0e184e01",
   "metadata": {},
   "outputs": [
    {
     "name": "stdout",
     "output_type": "stream",
     "text": [
      "Setting parameters for agent 0\n",
      "Setting parameters for agent 1\n",
      "Setting parameters for agent 2\n",
      "Setting parameters for agent 3\n",
      "Setting parameters for agent 4\n",
      "Setting parameters for agent 5\n",
      "Setting parameters for agent 6\n",
      "Setting parameters for agent 7\n",
      "Setting parameters for agent 8\n",
      "Setting parameters for agent 9\n",
      "Setting parameters for agent 10\n",
      "Setting parameters for agent 11\n",
      "Setting parameters for agent 12\n",
      "Setting parameters for agent 13\n",
      "Setting parameters for agent 14\n",
      "Setting parameters for agent 15\n",
      "Setting parameters for agent 16\n",
      "Setting parameters for agent 17\n",
      "Setting parameters for agent 18\n",
      "Setting parameters for agent 19\n",
      "Running simulation start method!\n",
      "Starting main simulation loop!\n",
      "2022-06-06_21-38-38.695219 t=1\n",
      "Simulation FPS: 0.0\n",
      "2022-06-06_21-38-43.038502 t=100\n",
      "Simulation FPS: 23.041475296020508\n",
      "2022-06-06_21-38-47.276228 t=200\n",
      "Simulation FPS: 23.75296974182129\n",
      "2022-06-06_21-38-51.496745 t=300\n",
      "Simulation FPS: 23.75296974182129\n",
      "2022-06-06_21-38-55.731293 t=400\n",
      "Simulation FPS: 22.52252197265625\n",
      "2022-06-06_21-38-59.967373 t=500\n",
      "Simulation FPS: 23.419204711914062\n",
      "2022-06-06_21-39-04.369303 t=600\n",
      "Simulation FPS: 23.75296974182129\n",
      "2022-06-06_21-39-08.636121 t=700\n",
      "Simulation FPS: 22.727272033691406\n",
      "2022-06-06_21-39-13.001391 t=800\n",
      "Simulation FPS: 22.831050872802734\n",
      "2022-06-06_21-39-17.359072 t=900\n",
      "Simulation FPS: 23.474178314208984\n",
      "2022-06-06_21-39-21.669483 t=1000\n",
      "Simulation FPS: 23.52941131591797\n",
      "Bye bye!\n"
     ]
    },
    {
     "ename": "SystemExit",
     "evalue": "",
     "output_type": "error",
     "traceback": [
      "An exception has occurred, use %tb to see the full traceback.\n",
      "\u001b[0;31mSystemExit\u001b[0m\n"
     ]
    }
   ],
   "source": [
    "from pygmodw22.sims import Simulation\n",
    "\n",
    "N = 20\n",
    "\n",
    "# We create a Simulation class instance with it's default agents as before\n",
    "simulation = Simulation(N=N,  # Number of agents in the environment\n",
    "                        T=2500,  # Simulation timesteps\n",
    "                        width=500,  # Arena width in pixels\n",
    "                        height=500,  # Arena height in pixels\n",
    "                        agent_radius=10)  # Agent radius in pixels\n",
    "\n",
    "# we loop through all the agents of the created simulation\n",
    "for agent in simulation.agents:\n",
    "    print(f\"Setting parameters for agent {agent.id}\")\n",
    "    \n",
    "    # changing their default flocking parameters\n",
    "    agent.s_att = 0.02  # attraction strength (AU)\n",
    "    agent.s_rep = 5  # repulsion strength (AU)\n",
    "    agent.s_alg = 10  # alignment strength (AU)\n",
    "\n",
    "    agent.r_att = 200  # attraction range (px)\n",
    "    agent.r_rep = 50  # repulsion range (px)\n",
    "    agent.r_alg = 100  # alignment range (px)\n",
    "    \n",
    "    if agent.id < 10:\n",
    "        agent.r_rep = 0\n",
    "        # agent.s_alg = 0\n",
    "        agent.orig_color = (100, 100, 100)\n",
    "    \n",
    "    agent.steepness_att = -0.5  # steepness in attraction force calculation (sigmoid)\n",
    "    agent.steepness_rep = -0.5  # steepness in repulsion force calculation (sigmoid)\n",
    "    agent.steepness_alg = -0.5  # steepness in alignment force calculation (sigmoid)\n",
    "    \n",
    "    agent.v_max = 1\n",
    "    agent.dt = 0.05\n",
    "    \n",
    "    # agent.boundary = \"bounce_back\"\n",
    "    \n",
    "    \n",
    "# Now we can start the simulation with the changed agents\n",
    "simulation.start()"
   ]
  },
  {
   "cell_type": "code",
   "execution_count": null,
   "id": "b72be102",
   "metadata": {},
   "outputs": [],
   "source": []
  }
 ],
 "metadata": {
  "kernelspec": {
   "display_name": "Python 3",
   "language": "python",
   "name": "python3"
  },
  "language_info": {
   "codemirror_mode": {
    "name": "ipython",
    "version": 3
   },
   "file_extension": ".py",
   "mimetype": "text/x-python",
   "name": "python",
   "nbconvert_exporter": "python",
   "pygments_lexer": "ipython3",
   "version": "3.6.9"
  }
 },
 "nbformat": 4,
 "nbformat_minor": 5
}
