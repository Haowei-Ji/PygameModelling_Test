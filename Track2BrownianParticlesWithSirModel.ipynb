{
 "cells": [
  {
   "cell_type": "markdown",
   "id": "e7bb737b",
   "metadata": {},
   "source": [
    "# Track 2: SIR Model\n",
    "\n",
    "Lorem Ipsum\n",
    "\n",
    "## Modelling epidemic spread of disease with the SIR model\n",
    "\n",
    "Lorem Ipsum"
   ]
  },
  {
   "cell_type": "code",
   "execution_count": 2,
   "id": "511cc765",
   "metadata": {},
   "outputs": [
    {
     "name": "stdout",
     "output_type": "stream",
     "text": [
      "Obtaining file:///home/david/Desktop/PygameModelling23\n",
      "Requirement already satisfied: h5py in ./venv/lib/python3.8/site-packages (from PyGame-Modelling-Workshop-2023==1.0.0) (3.8.0)\n",
      "Requirement already satisfied: matplotlib in ./venv/lib/python3.8/site-packages (from PyGame-Modelling-Workshop-2023==1.0.0) (3.7.1)\n",
      "Requirement already satisfied: numpy in ./venv/lib/python3.8/site-packages (from PyGame-Modelling-Workshop-2023==1.0.0) (1.24.3)\n",
      "Requirement already satisfied: opencv-python in ./venv/lib/python3.8/site-packages (from PyGame-Modelling-Workshop-2023==1.0.0) (4.7.0.72)\n",
      "Requirement already satisfied: pygame in ./venv/lib/python3.8/site-packages (from PyGame-Modelling-Workshop-2023==1.0.0) (2.4.0)\n",
      "Requirement already satisfied: scipy in ./venv/lib/python3.8/site-packages (from PyGame-Modelling-Workshop-2023==1.0.0) (1.10.1)\n",
      "Requirement already satisfied: packaging>=20.0 in ./venv/lib/python3.8/site-packages (from matplotlib->PyGame-Modelling-Workshop-2023==1.0.0) (23.1)\n",
      "Requirement already satisfied: kiwisolver>=1.0.1 in ./venv/lib/python3.8/site-packages (from matplotlib->PyGame-Modelling-Workshop-2023==1.0.0) (1.4.4)\n",
      "Requirement already satisfied: cycler>=0.10 in ./venv/lib/python3.8/site-packages (from matplotlib->PyGame-Modelling-Workshop-2023==1.0.0) (0.11.0)\n",
      "Requirement already satisfied: contourpy>=1.0.1 in ./venv/lib/python3.8/site-packages (from matplotlib->PyGame-Modelling-Workshop-2023==1.0.0) (1.0.7)\n",
      "Requirement already satisfied: fonttools>=4.22.0 in ./venv/lib/python3.8/site-packages (from matplotlib->PyGame-Modelling-Workshop-2023==1.0.0) (4.39.4)\n",
      "Requirement already satisfied: python-dateutil>=2.7 in ./venv/lib/python3.8/site-packages (from matplotlib->PyGame-Modelling-Workshop-2023==1.0.0) (2.8.2)\n",
      "Requirement already satisfied: importlib-resources>=3.2.0; python_version < \"3.10\" in ./venv/lib/python3.8/site-packages (from matplotlib->PyGame-Modelling-Workshop-2023==1.0.0) (5.12.0)\n",
      "Requirement already satisfied: pillow>=6.2.0 in ./venv/lib/python3.8/site-packages (from matplotlib->PyGame-Modelling-Workshop-2023==1.0.0) (9.5.0)\n",
      "Requirement already satisfied: pyparsing>=2.3.1 in ./venv/lib/python3.8/site-packages (from matplotlib->PyGame-Modelling-Workshop-2023==1.0.0) (3.0.9)\n",
      "Requirement already satisfied: six>=1.5 in ./venv/lib/python3.8/site-packages (from python-dateutil>=2.7->matplotlib->PyGame-Modelling-Workshop-2023==1.0.0) (1.16.0)\n",
      "Requirement already satisfied: zipp>=3.1.0; python_version < \"3.10\" in ./venv/lib/python3.8/site-packages (from importlib-resources>=3.2.0; python_version < \"3.10\"->matplotlib->PyGame-Modelling-Workshop-2023==1.0.0) (3.15.0)\n",
      "Installing collected packages: PyGame-Modelling-Workshop-2023\n",
      "  Attempting uninstall: PyGame-Modelling-Workshop-2023\n",
      "    Found existing installation: PyGame-Modelling-Workshop-2023 1.0.0\n",
      "    Uninstalling PyGame-Modelling-Workshop-2023-1.0.0:\n",
      "      Successfully uninstalled PyGame-Modelling-Workshop-2023-1.0.0\n",
      "  Running setup.py develop for PyGame-Modelling-Workshop-2023\n",
      "Successfully installed PyGame-Modelling-Workshop-2023\n",
      "Note: you may need to restart the kernel to use updated packages.\n",
      "pygame 2.4.0 (SDL 2.26.4, Python 3.8.10)\n",
      "Hello from the pygame community. https://www.pygame.org/contribute.html\n"
     ]
    }
   ],
   "source": [
    "#first we install the package (in case it is not done yet) and import the Simulation class\n",
    "%pip install -e .\n",
    "from pygmodw23.sims import Simulation"
   ]
  },
  {
   "cell_type": "code",
   "execution_count": 13,
   "id": "154f2805",
   "metadata": {},
   "outputs": [
    {
     "name": "stdout",
     "output_type": "stream",
     "text": [
      "Running simulation start method!\n",
      "Starting main simulation loop!\n",
      "2023-06-05_21-39-16.728998 Total simulation time:  33.248391\n"
     ]
    }
   ],
   "source": [
    "# Simulation Parameters\n",
    "# simulation time\n",
    "T = 1000\n",
    "# number of agents\n",
    "N = 100\n",
    "# path trail lengths\n",
    "memory_length = 0\n",
    "# arena\n",
    "width = height = 500\n",
    "window_pad = 50\n",
    "\n",
    "# Create a simulation instance\n",
    "test_simulation = Simulation(N=N, T=T, agent_type=\"SIR-brownian-selfpropelled\", framerate=30,\n",
    "                            width=width, height=height, window_pad=window_pad)\n",
    "\n",
    "# Change Agent Parameters\n",
    "# a.) type of noise (\"normal\" or \"uniform\")\n",
    "# b.) noise parameters (min, max) or (mean, std) of movement noise\n",
    "# c.) particle speed\n",
    "for agent in test_simulation.agents:\n",
    "    agent.noise_type = \"uniform\"  # or \"normal\"\n",
    "    agent.noise_params = (-0.5, 0.5)  # (min, max) or (mean, std)\n",
    "    agent.v_max = 2             # constant maximum absolute velocity\n",
    "    agent.infection_prob = 0.005\n",
    "    agent.recovery_prob = 0.001\n",
    "    agent.death_prob = 0.005\n",
    "    agent.infection_radius = 30\n",
    "\n",
    "\n",
    "# Initially infecting some agents\n",
    "num_infected_agents = 3\n",
    "for agent in test_simulation.agents:\n",
    "    if agent.id < num_infected_agents:\n",
    "        agent.state = \"I\"\n",
    "    else:\n",
    "        break\n",
    "        \n",
    "    \n",
    "# showing colorcoded trails\n",
    "test_simulation.memory_length = memory_length\n",
    "\n",
    "\n",
    "# Start the simulation\n",
    "test_simulation.start()"
   ]
  },
  {
   "cell_type": "code",
   "execution_count": null,
   "id": "05d051e2",
   "metadata": {},
   "outputs": [],
   "source": []
  }
 ],
 "metadata": {
  "kernelspec": {
   "display_name": "Python 3 (ipykernel)",
   "language": "python",
   "name": "python3"
  },
  "language_info": {
   "codemirror_mode": {
    "name": "ipython",
    "version": 3
   },
   "file_extension": ".py",
   "mimetype": "text/x-python",
   "name": "python",
   "nbconvert_exporter": "python",
   "pygments_lexer": "ipython3",
   "version": "3.8.10"
  }
 },
 "nbformat": 4,
 "nbformat_minor": 5
}
