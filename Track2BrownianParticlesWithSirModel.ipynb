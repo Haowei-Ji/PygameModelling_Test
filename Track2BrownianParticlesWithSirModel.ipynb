{
 "cells": [
  {
   "cell_type": "markdown",
   "id": "e7bb737b",
   "metadata": {},
   "source": [
    "# Track 2: SIR Model and Flocking\n",
    "\n",
    "\n",
    "## Modelling epidemic spread of disease with the SIR model\n",
    "\n",
    "In the [SIR model](https://de.wikipedia.org/wiki/SIR-Modell) of disease spread agents have 3 basic states of infection. When agents have not yet contacted the disease they are susceptible for a possible infection ($S$). When they get infected ($I$) they can spread the disease to other susceptible agents in a given infection radius ($R_I$) with probability ($P_I$). In our immplementation, agents can only come out from an infected state 2 way (note that this can vary across model implementations). They either recover ($R$) with probability $P_R$ and get immune to future infections, or they die ($D$) with probability $P_D$)"
   ]
  },
  {
   "cell_type": "code",
   "execution_count": null,
   "id": "1b9aa38b",
   "metadata": {},
   "outputs": [],
   "source": [
    "#first we install the package (in case it is not done yet) and import the Simulation class\n",
    "%pip install -e ."
   ]
  },
  {
   "cell_type": "markdown",
   "id": "d2ca4e0e",
   "metadata": {},
   "source": [
    "In the following cell we again use the provided code base to explore the SIR(D) model. As before, agents move randomly in a self-propelled way with a given speed. Remember, inheritance can make it easy to use the \"superpowers\" of a class but add new ones on top. (Do you remember the Animal->Goat inheritance example?). We use inheritance here as well. We simply take the `AgentSelfPropelled` class that already implements the random movement of agent and we inherit from it with the class `AgentSIR`. In that we implement the infection states and the probabilistic spread of disease in a given radius of every agent. You can control the movement of agents and the disease spread with the pramaters provided in the below code snippet."
   ]
  },
  {
   "cell_type": "code",
   "execution_count": 5,
   "id": "154f2805",
   "metadata": {},
   "outputs": [
    {
     "name": "stdout",
     "output_type": "stream",
     "text": [
      "Running simulation start method!\n",
      "Starting main simulation loop!\n",
      "2023-06-08_19-32-07.474494 Total simulation time:  10.022012\n"
     ]
    }
   ],
   "source": [
    "import numpy as np\n",
    "from pygmodw23.sims import Simulation\n",
    "\n",
    "\n",
    "# Simulation Parameters\n",
    "# simulation time\n",
    "T = 2000\n",
    "# max visualization framerate (also depends on your computer)\n",
    "framerate = 2000\n",
    "# You can speed up the simulation a lot by turning off the visualization\n",
    "# and simultaneously set the framerate to a very high value, e.g. 2000\n",
    "with_visualization = True\n",
    "# number of agents\n",
    "N = 100\n",
    "\n",
    "# how many timesteps should be saved (slightly slows simulation)\n",
    "# You should have at least a few hundred MB free memory (RAM)\n",
    "memory_length = T\n",
    "\n",
    "# showing agent trajectories (significantly slows simulation)\n",
    "show_agent_trails = False\n",
    "\n",
    "# arena\n",
    "width = height = 500\n",
    "window_pad = 50\n",
    "\n",
    "# Create a simulation instance\n",
    "simulation = Simulation(N=N, T=T, agent_type=\"SIR-brownian-selfpropelled\", framerate=framerate,\n",
    "                        width=width, height=height, window_pad=window_pad, with_visualization=with_visualization)\n",
    "\n",
    "# probability to make an agent moving other remain still\n",
    "ratio_of_moving_agents = 1\n",
    "\n",
    "# Change Agent Parameters\n",
    "for agent in simulation.agents:\n",
    "    agent.noise_type = \"uniform\"  # or \"normal\"\n",
    "    \n",
    "    # Agent movement parameters\n",
    "    if np.random.rand() < ratio_of_moving_agents:\n",
    "        agent.v_max = 2\n",
    "        agent.noise_params = (-0.5, 0.5)  # (min, max) or (mean, std)\n",
    "    else:\n",
    "        agent.v_max = 0\n",
    "        agent.noise_params = (0, 0)  # (min, max) or (mean, std)\n",
    "    \n",
    "    # SIR parameters\n",
    "    agent.infection_prob =   0.05\n",
    "    agent.recovery_prob =    0.001\n",
    "    agent.death_prob =       0.001\n",
    "    agent.infection_radius = 25\n",
    "    agent.radius =           8\n",
    "\n",
    "\n",
    "# Initially infecting some agents\n",
    "num_infected_agents = 3\n",
    "for agent in simulation.agents:\n",
    "    if agent.id < num_infected_agents:\n",
    "        agent.state = \"I\"\n",
    "    else:\n",
    "        break\n",
    "        \n",
    "    \n",
    "# showing colorcoded trails if requested\n",
    "simulation.show_agent_trails = show_agent_trails\n",
    "\n",
    "# saving data if requested\n",
    "simulation.save_agent_data = True\n",
    "\n",
    "# saving data in last <memory_length> steps\n",
    "simulation.memory_length = memory_length\n",
    "\n",
    "# showing infective zone\n",
    "simulation.show_zones = True\n",
    "\n",
    "\n",
    "# Start the simulation\n",
    "simulation.start()"
   ]
  },
  {
   "cell_type": "markdown",
   "id": "88d05476",
   "metadata": {},
   "source": [
    "## Saving data to HDF5 files and visualizing disease spread\n",
    "\n",
    "As before we can save the resulting data from the memory to HDF5 files. Additionally to the data in Track1, in this Track we can also save the states of the agents over time. Here is an example how:"
   ]
  },
  {
   "cell_type": "code",
   "execution_count": 7,
   "id": "44710867",
   "metadata": {},
   "outputs": [
    {
     "name": "stdout",
     "output_type": "stream",
     "text": [
      "Shape of readback state array: (100, 2000)\n"
     ]
    }
   ],
   "source": [
    "# Import h5py and save ori_memory to hdf5 file\n",
    "import h5py\n",
    "\n",
    "# Create a single H5 file to contain our arrays\n",
    "h5f = h5py.File('agent_states.h5', 'w')\n",
    "\n",
    "# Save orientation and position memory (trails) into different datasets in the same file\n",
    "h5f.create_dataset('agent_states', data=simulation.agent_states[:, ::-1])\n",
    "\n",
    "# Close the file\n",
    "h5f.close()\n",
    "\n",
    "# Read saved data from HDF5 file\n",
    "h5f = h5py.File('agent_states.h5','r')\n",
    "\n",
    "# Read individual datasets into python variables\n",
    "agent_states = h5f['agent_states'][:]\n",
    "\n",
    "# close file after read\n",
    "h5f.close()\n",
    "\n",
    "# check if reading data was successful by printing array shapes \n",
    "print(f\"Shape of readback state array: {agent_states.shape}\")"
   ]
  },
  {
   "cell_type": "markdown",
   "id": "c96b2a1f",
   "metadata": {},
   "source": [
    "You can get inspired by this code snippet for later excercises when you will have to save data for many simulation runs to compare model parameters. Now we can proceed and visualize the dynamics of our SIR model pandemic. Let's first calculate what proportion of the whole population was in which state. In the `agent_states` array states (S, I, R, D) are encoded as integers (1, 2, 3, -1)."
   ]
  },
  {
   "cell_type": "code",
   "execution_count": 8,
   "id": "1d5d150c",
   "metadata": {},
   "outputs": [
    {
     "data": {
      "text/plain": [
       "Text(0.5, 1.0, 'Temporal evolution of model pandemic with SIR(D) model')"
      ]
     },
     "execution_count": 8,
     "metadata": {},
     "output_type": "execute_result"
    },
    {
     "data": {
      "image/png": "[encoded data removed]",
      "text/plain": [
       "<Figure size 640x480 with 1 Axes>"
      ]
     },
     "metadata": {},
     "output_type": "display_data"
    }
   ],
   "source": [
    "%matplotlib inline\n",
    "import matplotlib.pyplot as plt\n",
    "\n",
    "# Proportion of susceptible agents\n",
    "susceptible_pop = [agent_states[:, t].tolist().count(1)/N for t in range(agent_states.shape[1])]\n",
    "# Proportion of infected agents\n",
    "infected_pop = [agent_states[:, t].tolist().count(2)/N for t in range(agent_states.shape[1])]\n",
    "# Proportion of Recovered agents\n",
    "recovered_pop = [agent_states[:, t].tolist().count(3)/N for t in range(agent_states.shape[1])]\n",
    "# Proportion of Dead agents\n",
    "dead_pop = [agent_states[:, t].tolist().count(-1)/N for t in range(agent_states.shape[1])]\n",
    "\n",
    "plt.plot(susceptible_pop, c=\"blue\", label=\"S\")\n",
    "plt.plot(infected_pop, c=\"red\", label=\"I\")\n",
    "plt.plot(recovered_pop, c=\"green\", label=\"R\")\n",
    "plt.plot(dead_pop, c=\"gray\", label=\"D\")\n",
    "\n",
    "plt.legend()\n",
    "plt.xlabel(\"time [ts]\")\n",
    "plt.ylabel(\"population ratio\")\n",
    "plt.title(\"Temporal evolution of model pandemic with SIR(D) model\")"
   ]
  },
  {
   "cell_type": "markdown",
   "id": "799dd76a",
   "metadata": {},
   "source": [
    "## Excercises for Track 2\n",
    "\n",
    "  - Stop the agents from moving in the arena by setting `ratio_of_moving_agents = 0`. As we initialize the agents position randmly, the connection between agents (i.e. who can infect whom) will be controlled by their initial position and the `infection_radius`. Leave all other parameters fixed and change the agents `infection_radius` from 0, 10, 25, 50, 100. Observe how this affects the contagion dynamics.\n",
    "  - Now set the infection radius to a relatively small value (e.g. 10). Note that with this infection radius disease spread is slow, simply because fixed position agents can only infect those neighbors that are closer than that. Allowing agents to move will change the game. Increase the proportion of moving agents by setting `ratio_of_moving_agents` between 0, 0.1, 0.25, 0.5, 1. Keep every other parameters fixed. What do you observe, how does the mobility of agents influence the disease spread?"
   ]
  },
  {
   "cell_type": "markdown",
   "id": "ae0b5a30",
   "metadata": {},
   "source": [
    "# The Three-Zone-Model\n",
    "\n",
    "Here, we will explore an agent-based model for simulating collective dynamics of animals (e.g. fish schools) through the provided package and small tasks. Feel free to provide your answers in this notebook. Our main task is the exploration of collective dynamics in a 2D model, related to the Three-Zone-Model (Two-Zone-Models) [by Couzin et al.](https://www.sciencedirect.com/science/article/pii/S0022519302930651), where the interaction between individuals is governed by three basic interactions: long-range attraction, short-ranged repulsion and alignment. \n",
    "\n",
    "## Brief Introduction\n",
    "### Fundamental model\n",
    "\n",
    "The code solves a set of (stochastic) differential equation describing a set of $N$ interacting agents ($i= 1,\\dots, N$). The dynamics of each agent (in 2d) is described by the following equations of motion:\n",
    "\n",
    "$$ \\frac{d \\vec{r}_i}{dt}=\\vec{v}_i(t) $$\n",
    "$$ \\vec{v}_i(t) = {s_i\\cos(\\varphi_i(t)) \\choose s_i\\sin(\\varphi_i(t)) } $$\n",
    "$$ \\frac{d \\varphi_i}{dt} = \\frac{1}{s_i}\\left( F_{i,\\varphi} + \\eta_{i,\\varphi} \\right) $$\n",
    "\n",
    "\n",
    "Here $\\vec{r}_i$, $\\vec{v}_i$ are the Cartesian position and velocity  vectors of the focal agent, wth $s_i$ being the (constant) speed of agent $i$. Furthermore, $\\eta_{i,\\varphi}$ represents Gaussian white noise introducing randomness in the motion of individuals, and $\\vec{F}_{i,\\varphi}$ is the projections of the total social force inducing a turning behavior.\n",
    "$$ F_{i,\\varphi}=\\vec{F}_i \\cdot \\vec{u}_{\\varphi,i} = \\vec{F}_i {- s_i\\sin\\varphi_i \\choose s_i\\cos\\varphi_i } $$\n",
    "\n",
    "\n",
    "The total effective social force is a sum of three components:\n",
    "$$ \\vec{F}_i=\\vec{F}_{i,rep}+\\vec{F}_{i,alg}+\\vec{F}_{i,att} $$\n",
    "\n",
    "\n",
    "**Attraction:\n",
    "$$\\vec{F}_{i,att}=\\sum_{j \\in Neigh} +\\mu_{att}S_{att}({r}_{ji}) \\hat{r}_{ji} $$\n",
    "Repulsion:\n",
    "$$\\vec{F}_{i,rep}=\\sum_{j \\in Neigh} -\\mu_{rep}S_{rep}({r}_{ji}) \\hat{r}_{ji}$$\n",
    "Alignment:**\n",
    "$$\\vec{F}_{i,alg}=\\sum_{j \\in Neigh} \\mu_{alg}S_{alg}({r}_{ji}) (\\vec{v}_j-\\vec{v}_i)$$\n",
    "with $\\hat r = \\vec{r}/|r|$.\n",
    "\n",
    "The strength of the different interactions is set by a constant $\\mu_X$ and a sigmoid function of distance, which goes from 1 to 0, with the transition point at $r_{X,0}$ and steepness $a_{X}$:\n",
    "$$ S_X(r)=\\frac{1}{2}\\left(\\tanh(-a(r-r_{X,0})+1\\right) $$"
   ]
  },
  {
   "cell_type": "markdown",
   "id": "8613d302",
   "metadata": {},
   "source": [
    "<img src=\"data/images/scheme_ranges.png\" width='800'>\n",
    "\n",
    "**Figure2.:** Local interaction forces around an agent"
   ]
  },
  {
   "cell_type": "markdown",
   "id": "57b3e2cc",
   "metadata": {},
   "source": [
    "<img src=\"data/images/int_ranges.png\">\n",
    "\n",
    "**Figure1.:** Example of the 3 interaction zones around a focal agent"
   ]
  },
  {
   "cell_type": "code",
   "execution_count": 17,
   "id": "ee4d3dcc",
   "metadata": {},
   "outputs": [
    {
     "name": "stdout",
     "output_type": "stream",
     "text": [
      "Setting parameters for agent 0, 1, 2, 3, 4, 5, 6, 7, 8, 9, Running simulation start method!\n",
      "Starting main simulation loop!\n",
      "2023-06-08_19-41-30.958539 Total simulation time:  11.529103\n"
     ]
    }
   ],
   "source": [
    "import numpy as np\n",
    "from pygmodw23.sims import Simulation\n",
    "\n",
    "\n",
    "# Simulation Parameters\n",
    "# simulation time\n",
    "T = 2000\n",
    "# max visualization framerate (also depends on your computer)\n",
    "framerate = 2000\n",
    "# You can speed up the simulation a lot by turning off the visualization\n",
    "# and simultaneously set the framerate to a very high value, e.g. 2000\n",
    "with_visualization = True\n",
    "# number of agents\n",
    "N = 10\n",
    "\n",
    "# how many timesteps should be saved (slightly slows simulation)\n",
    "# You should have at least a few hundred MB free memory (RAM)\n",
    "memory_length = T\n",
    "\n",
    "# showing agent trajectories (significantly slows simulation)\n",
    "show_agent_trails = False\n",
    "\n",
    "# arena\n",
    "width = height = 500\n",
    "window_pad = 50\n",
    "\n",
    "# Create a simulation instance\n",
    "simulation = Simulation(N=N, T=T, agent_type=\"3zones\", framerate=framerate,\n",
    "                        width=width, height=height, window_pad=window_pad, with_visualization=with_visualization)\n",
    "\n",
    "\n",
    "# we loop through all the agents of the created simulation\n",
    "print(\"Setting parameters for agent\", end = ' ')\n",
    "# Change Agent Parameters\n",
    "for agent in simulation.agents:\n",
    "    print(f\"{agent.id}\", end = ', ')\n",
    "    \n",
    "    # changing angular noise (sigma)\n",
    "    agent.noise_sig = 0.1\n",
    "    \n",
    "    # changing their default flocking parameters\n",
    "    agent.s_att = 0.02  # attraction strength (AU)\n",
    "    agent.s_rep = 5  # repulsion strength (AU)\n",
    "    agent.s_alg = 10  # alignment strength (AU)\n",
    "\n",
    "    agent.r_att = 200  # attraction range (px)\n",
    "    agent.r_rep = 50  # repulsion range (px)\n",
    "    agent.r_alg = 100  # alignment range (px)\n",
    "    \n",
    "    agent.steepness_att = -0.5  # steepness in attraction force calculation (sigmoid)\n",
    "    agent.steepness_rep = -0.5  # steepness in repulsion force calculation (sigmoid)\n",
    "    agent.steepness_alg = -0.5  # steepness in alignment force calculation (sigmoid)\n",
    "    \n",
    "    # changing maximum velocity and simulation timesteps\n",
    "    agent.v_max = 2\n",
    "    agent.dt = 0.05\n",
    "        \n",
    "    \n",
    "# showing colorcoded trails if requested\n",
    "simulation.show_agent_trails = show_agent_trails\n",
    "\n",
    "# saving data if requested\n",
    "simulation.save_agent_data = True\n",
    "\n",
    "# saving data in last <memory_length> steps\n",
    "simulation.memory_length = memory_length\n",
    "\n",
    "# showing infective zone\n",
    "simulation.show_zones = True\n",
    "\n",
    "\n",
    "# Start the simulation\n",
    "simulation.start()"
   ]
  },
  {
   "cell_type": "markdown",
   "id": "e6a70fbe",
   "metadata": {},
   "source": [
    "# TExcercises\n",
    "\n",
    "Use the example code snippet above and modify it to answer the following questions. \n",
    "\n",
    "1. **Individual Dynamics**: Turn off all the interaction forces. Perform simulations with different angular noise values (noise_sig) and explore the behavior of the agents (you can try: 0.1, 1, 3). For the next tasks fix this parameter to 0.1.\n",
    "2. **Obstacle Avoidance**:\n",
    "    - a. Re-introduce a strong local repulsion interaction (`s_rep = 5`) and by that implement obstacle avoidance in a group of 10 agents. Set the repulsion steepness to -1.\n",
    "    - b. Test the repulsion beahvior with different repulsion ranges (20, 50, 150). Feel free to move around the agents and see what happens when you move them in each others' repulsion zone.\n",
    "    - c. **Hint:** You can visualize the zones around the agents with `z`. Only those zones will be shown for which the corresponding interaction strength is larger than zero. \n",
    "    - d. Explore the effect of the repulsion steepness (-0.1, -0.5, -1). When does repulsion take place with low or high steepness parameter? \n",
    "    - e. Do you think this obstacle avoidance will always avoid agents from collision?\n",
    "    - f. For the upcoming experimentation fix repulsion strength to 5, steepness to -0.5 and range to 50\n",
    " \n",
    "3. **Attraction-Repulsion**\n",
    "    - a. Re-intorduce attraction and explore the beahavior with different attraction strenths 0.05, 0.5, 1, 5.\n",
    "    - b. What happens for attraction strength of 0.05 and 5? What would you consider a realistic attraction strength for a mosquito swarm?\n",
    "    - c. For the next experiment fix the attraction strength to 0.02, attraction range to 200 and steepness to -0.5.\n",
    "    \n",
    "4. **Movement Coordination**\n",
    "    - a. What do you think you will observe when you introduce an intermediate zone where agents align to their neighbors?\n",
    "    - b. Re-introduce the alignment zone by setting a strong alignment strength of 5. Is your observation matching with what you expected? What happens if you increase the attraction strength to 2?\n",
    "    - c. Change back the attraction strength to 0.02. Introduce repellent walls by writing the following in the loop: `agent.boundary = \"bounce_back\"`. Is the system robust enough to handle such perturbations? Try different alignment strengths of 1.75 and 5. What is the difference? Try different angular noise values as well."
   ]
  },
  {
   "cell_type": "code",
   "execution_count": null,
   "id": "8b0134c6",
   "metadata": {},
   "outputs": [],
   "source": []
  }
 ],
 "metadata": {
  "kernelspec": {
   "display_name": "Python 3 (ipykernel)",
   "language": "python",
   "name": "python3"
  },
  "language_info": {
   "codemirror_mode": {
    "name": "ipython",
    "version": 3
   },
   "file_extension": ".py",
   "mimetype": "text/x-python",
   "name": "python",
   "nbconvert_exporter": "python",
   "pygments_lexer": "ipython3",
   "version": "3.11.4"
  }
 },
 "nbformat": 4,
 "nbformat_minor": 5
}
