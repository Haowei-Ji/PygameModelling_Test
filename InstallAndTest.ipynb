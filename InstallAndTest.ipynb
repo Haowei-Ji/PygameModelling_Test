{
 "cells": [
  {
   "cell_type": "markdown",
   "id": "09cdc0c9",
   "metadata": {},
   "source": [
    "# Installation\n",
    "First, we will have to install all the dependencies of the code base and the code base used throughout the workshop as well. This is structured in a python package that you have just cloned from GitHub. `setup.py` includes all the dependencies that we can install with pip. We use the `-e`flag so that we can also change the code inside the package and the changes will be immediately visible when we use the code.\n"
   ]
  },
  {
   "cell_type": "code",
   "execution_count": 1,
   "id": "20039ccd",
   "metadata": {},
   "outputs": [
    {
     "name": "stdout",
     "output_type": "stream",
     "text": [
      "Obtaining file:///home/mezey/Desktop/PygameModelling22\n",
      "Requirement already satisfied: matplotlib in ./venv/lib/python3.8/site-packages (from PyGame-Modelling-Workshop-2022==1.0.0) (3.5.2)\n",
      "Requirement already satisfied: numpy in ./venv/lib/python3.8/site-packages (from PyGame-Modelling-Workshop-2022==1.0.0) (1.22.4)\n",
      "Requirement already satisfied: opencv-python in ./venv/lib/python3.8/site-packages (from PyGame-Modelling-Workshop-2022==1.0.0) (4.5.5.64)\n",
      "Requirement already satisfied: pygame in ./venv/lib/python3.8/site-packages (from PyGame-Modelling-Workshop-2022==1.0.0) (2.1.2)\n",
      "Requirement already satisfied: scipy in ./venv/lib/python3.8/site-packages (from PyGame-Modelling-Workshop-2022==1.0.0) (1.8.1)\n",
      "Requirement already satisfied: zarr in ./venv/lib/python3.8/site-packages (from PyGame-Modelling-Workshop-2022==1.0.0) (2.11.3)\n",
      "Requirement already satisfied: kiwisolver>=1.0.1 in ./venv/lib/python3.8/site-packages (from matplotlib->PyGame-Modelling-Workshop-2022==1.0.0) (1.4.2)\n",
      "Requirement already satisfied: cycler>=0.10 in ./venv/lib/python3.8/site-packages (from matplotlib->PyGame-Modelling-Workshop-2022==1.0.0) (0.11.0)\n",
      "Requirement already satisfied: pillow>=6.2.0 in ./venv/lib/python3.8/site-packages (from matplotlib->PyGame-Modelling-Workshop-2022==1.0.0) (9.1.1)\n",
      "Requirement already satisfied: python-dateutil>=2.7 in ./venv/lib/python3.8/site-packages (from matplotlib->PyGame-Modelling-Workshop-2022==1.0.0) (2.8.2)\n",
      "Requirement already satisfied: packaging>=20.0 in ./venv/lib/python3.8/site-packages (from matplotlib->PyGame-Modelling-Workshop-2022==1.0.0) (21.3)\n",
      "Requirement already satisfied: fonttools>=4.22.0 in ./venv/lib/python3.8/site-packages (from matplotlib->PyGame-Modelling-Workshop-2022==1.0.0) (4.33.3)\n",
      "Requirement already satisfied: pyparsing>=2.2.1 in ./venv/lib/python3.8/site-packages (from matplotlib->PyGame-Modelling-Workshop-2022==1.0.0) (3.0.9)\n",
      "Requirement already satisfied: asciitree in ./venv/lib/python3.8/site-packages (from zarr->PyGame-Modelling-Workshop-2022==1.0.0) (0.3.3)\n",
      "Requirement already satisfied: numcodecs>=0.6.4 in ./venv/lib/python3.8/site-packages (from zarr->PyGame-Modelling-Workshop-2022==1.0.0) (0.9.1)\n",
      "Requirement already satisfied: fasteners in ./venv/lib/python3.8/site-packages (from zarr->PyGame-Modelling-Workshop-2022==1.0.0) (0.17.3)\n",
      "Requirement already satisfied: six>=1.5 in ./venv/lib/python3.8/site-packages (from python-dateutil>=2.7->matplotlib->PyGame-Modelling-Workshop-2022==1.0.0) (1.16.0)\n",
      "Installing collected packages: PyGame-Modelling-Workshop-2022\n",
      "  Attempting uninstall: PyGame-Modelling-Workshop-2022\n",
      "    Found existing installation: PyGame-Modelling-Workshop-2022 1.0.0\n",
      "    Uninstalling PyGame-Modelling-Workshop-2022-1.0.0:\n",
      "      Successfully uninstalled PyGame-Modelling-Workshop-2022-1.0.0\n",
      "  Running setup.py develop for PyGame-Modelling-Workshop-2022\n",
      "Successfully installed PyGame-Modelling-Workshop-2022\n",
      "Note: you may need to restart the kernel to use updated packages.\n"
     ]
    }
   ],
   "source": [
    "%pip install -e ."
   ]
  },
  {
   "cell_type": "markdown",
   "id": "efdb2980",
   "metadata": {},
   "source": [
    "# Test the Installation\n",
    "to test the installation, we can start using the installed python package `pygmodw22` and start a short simulation of randomly moving agents."
   ]
  },
  {
   "cell_type": "code",
   "execution_count": 2,
   "id": "ed4fe3ed",
   "metadata": {},
   "outputs": [
    {
     "name": "stdout",
     "output_type": "stream",
     "text": [
      "pygame 2.1.2 (SDL 2.0.16, Python 3.8.10)\n",
      "Hello from the pygame community. https://www.pygame.org/contribute.html\n",
      "Running simulation start method!\n",
      "Creating agents!\n",
      "Starting main simulation loop!\n",
      "2022-06-03_13-36-10.697689 t=1\n",
      "Simulation FPS: 0.0\n",
      "2022-06-03_13-36-14.668626 t=100\n",
      "Simulation FPS: 24.93765640258789\n",
      "2022-06-03_13-36-16.704232 Total simulation time:  6.016832\n"
     ]
    }
   ],
   "source": [
    "from pygmodw22.sims import Simulation\n",
    "\n",
    "# Creating a short test simulation instance with 15 agents and 150 timestep simulation time\n",
    "test_simulation = Simulation(N=15, T=150)\n",
    "\n",
    "# Start the simulation\n",
    "test_simulation.start()"
   ]
  },
  {
   "cell_type": "markdown",
   "id": "5ecd312d",
   "metadata": {},
   "source": [
    "In case you have seen the simulation window and the agents moving around, you are ready for the workshop!"
   ]
  },
  {
   "cell_type": "code",
   "execution_count": null,
   "id": "bc0d8eb0",
   "metadata": {},
   "outputs": [],
   "source": []
  }
 ],
 "metadata": {
  "kernelspec": {
   "display_name": "Python 3 (ipykernel)",
   "language": "python",
   "name": "python3"
  },
  "language_info": {
   "codemirror_mode": {
    "name": "ipython",
    "version": 3
   },
   "file_extension": ".py",
   "mimetype": "text/x-python",
   "name": "python",
   "nbconvert_exporter": "python",
   "pygments_lexer": "ipython3",
   "version": "3.8.10"
  }
 },
 "nbformat": 4,
 "nbformat_minor": 5
}
