{
 "cells": [
  {
   "cell_type": "markdown",
   "id": "09cdc0c9",
   "metadata": {},
   "source": [
    "# Installation\n",
    "First, we will have to install all the dependencies of the code base and the code base used throughout the workshop as well. This is structured in a python package that you have just cloned from GitHub. `setup.py` includes all the dependencies that we can install with pip. We use the `-e`flag so that we can also change the code inside the package and the changes will be immediately visible when we use the code.\n"
   ]
  },
  {
   "cell_type": "code",
   "execution_count": 3,
   "id": "20039ccd",
   "metadata": {},
   "outputs": [
    {
     "name": "stdout",
     "output_type": "stream",
     "text": [
      "Obtaining file:///home/david/Desktop/PygameModelling23\n",
      "Requirement already satisfied: matplotlib in ./venv/lib/python3.8/site-packages (from PyGame-Modelling-Workshop-2022==1.0.0) (3.7.1)\n",
      "Requirement already satisfied: numpy in ./venv/lib/python3.8/site-packages (from PyGame-Modelling-Workshop-2022==1.0.0) (1.24.3)\n",
      "Requirement already satisfied: opencv-python in ./venv/lib/python3.8/site-packages (from PyGame-Modelling-Workshop-2022==1.0.0) (4.7.0.72)\n",
      "Requirement already satisfied: pygame in ./venv/lib/python3.8/site-packages (from PyGame-Modelling-Workshop-2022==1.0.0) (2.4.0)\n",
      "Requirement already satisfied: scipy in ./venv/lib/python3.8/site-packages (from PyGame-Modelling-Workshop-2022==1.0.0) (1.10.1)\n",
      "Requirement already satisfied: zarr in ./venv/lib/python3.8/site-packages (from PyGame-Modelling-Workshop-2022==1.0.0) (2.14.2)\n",
      "Requirement already satisfied: contourpy>=1.0.1 in ./venv/lib/python3.8/site-packages (from matplotlib->PyGame-Modelling-Workshop-2022==1.0.0) (1.0.7)\n",
      "Requirement already satisfied: importlib-resources>=3.2.0; python_version < \"3.10\" in ./venv/lib/python3.8/site-packages (from matplotlib->PyGame-Modelling-Workshop-2022==1.0.0) (5.12.0)\n",
      "Requirement already satisfied: cycler>=0.10 in ./venv/lib/python3.8/site-packages (from matplotlib->PyGame-Modelling-Workshop-2022==1.0.0) (0.11.0)\n",
      "Requirement already satisfied: pyparsing>=2.3.1 in ./venv/lib/python3.8/site-packages (from matplotlib->PyGame-Modelling-Workshop-2022==1.0.0) (3.0.9)\n",
      "Requirement already satisfied: pillow>=6.2.0 in ./venv/lib/python3.8/site-packages (from matplotlib->PyGame-Modelling-Workshop-2022==1.0.0) (9.5.0)\n",
      "Requirement already satisfied: python-dateutil>=2.7 in ./venv/lib/python3.8/site-packages (from matplotlib->PyGame-Modelling-Workshop-2022==1.0.0) (2.8.2)\n",
      "Requirement already satisfied: kiwisolver>=1.0.1 in ./venv/lib/python3.8/site-packages (from matplotlib->PyGame-Modelling-Workshop-2022==1.0.0) (1.4.4)\n",
      "Requirement already satisfied: fonttools>=4.22.0 in ./venv/lib/python3.8/site-packages (from matplotlib->PyGame-Modelling-Workshop-2022==1.0.0) (4.39.4)\n",
      "Requirement already satisfied: packaging>=20.0 in ./venv/lib/python3.8/site-packages (from matplotlib->PyGame-Modelling-Workshop-2022==1.0.0) (23.1)\n",
      "Requirement already satisfied: fasteners in ./venv/lib/python3.8/site-packages (from zarr->PyGame-Modelling-Workshop-2022==1.0.0) (0.18)\n",
      "Requirement already satisfied: numcodecs>=0.10.0 in ./venv/lib/python3.8/site-packages (from zarr->PyGame-Modelling-Workshop-2022==1.0.0) (0.11.0)\n",
      "Requirement already satisfied: asciitree in ./venv/lib/python3.8/site-packages (from zarr->PyGame-Modelling-Workshop-2022==1.0.0) (0.3.3)\n",
      "Requirement already satisfied: zipp>=3.1.0; python_version < \"3.10\" in ./venv/lib/python3.8/site-packages (from importlib-resources>=3.2.0; python_version < \"3.10\"->matplotlib->PyGame-Modelling-Workshop-2022==1.0.0) (3.15.0)\n",
      "Requirement already satisfied: six>=1.5 in ./venv/lib/python3.8/site-packages (from python-dateutil>=2.7->matplotlib->PyGame-Modelling-Workshop-2022==1.0.0) (1.16.0)\n",
      "Requirement already satisfied: entrypoints in ./venv/lib/python3.8/site-packages (from numcodecs>=0.10.0->zarr->PyGame-Modelling-Workshop-2022==1.0.0) (0.4)\n",
      "Installing collected packages: PyGame-Modelling-Workshop-2022\n",
      "  Attempting uninstall: PyGame-Modelling-Workshop-2022\n",
      "    Found existing installation: PyGame-Modelling-Workshop-2022 1.0.0\n",
      "    Uninstalling PyGame-Modelling-Workshop-2022-1.0.0:\n",
      "      Successfully uninstalled PyGame-Modelling-Workshop-2022-1.0.0\n",
      "  Running setup.py develop for PyGame-Modelling-Workshop-2022\n",
      "Successfully installed PyGame-Modelling-Workshop-2022\n",
      "Note: you may need to restart the kernel to use updated packages.\n"
     ]
    }
   ],
   "source": [
    "%pip install -e ."
   ]
  },
  {
   "cell_type": "markdown",
   "id": "efdb2980",
   "metadata": {},
   "source": [
    "# Test the Installation\n",
    "to test the installation, we can start using the installed python package `pygmodw23` and start a short simulation of randomly moving agents."
   ]
  },
  {
   "cell_type": "code",
   "execution_count": 4,
   "id": "ed4fe3ed",
   "metadata": {},
   "outputs": [
    {
     "name": "stdout",
     "output_type": "stream",
     "text": [
      "Running simulation start method!\n",
      "Starting main simulation loop!\n",
      "2023-05-30_20-48-05.078230 Total simulation time:  6.032931\n"
     ]
    }
   ],
   "source": [
    "from pygmodw23.sims import Simulation\n",
    "\n",
    "# Creating a short test simulation instance with 15 agents and 150 timestep simulation time\n",
    "test_simulation = Simulation(N=15, T=150)\n",
    "\n",
    "# Start the simulation\n",
    "test_simulation.start()"
   ]
  },
  {
   "cell_type": "markdown",
   "id": "5ecd312d",
   "metadata": {},
   "source": [
    "In case you have seen the simulation window and the agents moving around, you are ready for the workshop! (It can happen that the pygame window will not pop up but will open in the background.)"
   ]
  }
 ],
 "metadata": {
  "kernelspec": {
   "display_name": "Python 3 (ipykernel)",
   "language": "python",
   "name": "python3"
  },
  "language_info": {
   "codemirror_mode": {
    "name": "ipython",
    "version": 3
   },
   "file_extension": ".py",
   "mimetype": "text/x-python",
   "name": "python",
   "nbconvert_exporter": "python",
   "pygments_lexer": "ipython3",
   "version": "3.8.10"
  }
 },
 "nbformat": 4,
 "nbformat_minor": 5
}
