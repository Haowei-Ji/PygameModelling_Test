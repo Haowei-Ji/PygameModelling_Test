{
 "cells": [
  {
   "cell_type": "markdown",
   "id": "09cdc0c9",
   "metadata": {},
   "source": [
    "# Installation\n",
    "First, we will have to install all the dependencies of the code base and the code base used throughout the workshop as well. This is structured in a python package that you have just cloned from GitHub. `setup.py` includes all the dependencies that we can install with pip. We use the `-e`flag so that we can also change the code inside the package and the changes will be immediately visible when we use the code.\n"
   ]
  },
  {
   "cell_type": "code",
   "execution_count": null,
   "id": "20039ccd",
   "metadata": {},
   "outputs": [],
   "source": [
    "%pip install -e ."
   ]
  },
  {
   "cell_type": "markdown",
   "id": "efdb2980",
   "metadata": {},
   "source": [
    "# Test the Installation\n",
    "to test the installation, we can start using the installed python package `pygmodw22` and start a short simulation of randomly moving agents."
   ]
  },
  {
   "cell_type": "code",
   "execution_count": null,
   "id": "ed4fe3ed",
   "metadata": {},
   "outputs": [],
   "source": [
    "from pygmodw22.sims import Simulation\n",
    "\n",
    "# Creating a short test simulation instance with 15 agents and 150 timestep simulation time\n",
    "test_simulation = Simulation(N=15, T=150)\n",
    "\n",
    "# Start the simulation\n",
    "test_simulation.start()"
   ]
  },
  {
   "cell_type": "markdown",
   "id": "5ecd312d",
   "metadata": {},
   "source": [
    "In case you have seen the simulation window and the agents moving around, you are ready for the workshop! (It can happen that the pygame window will not pop up but will open in the background.)"
   ]
  }
 ],
 "metadata": {
  "kernelspec": {
   "display_name": "Python 3",
   "language": "python",
   "name": "python3"
  },
  "language_info": {
   "codemirror_mode": {
    "name": "ipython",
    "version": 3
   },
   "file_extension": ".py",
   "mimetype": "text/x-python",
   "name": "python",
   "nbconvert_exporter": "python",
   "pygments_lexer": "ipython3",
   "version": "3.6.9"
  }
 },
 "nbformat": 4,
 "nbformat_minor": 5
}
